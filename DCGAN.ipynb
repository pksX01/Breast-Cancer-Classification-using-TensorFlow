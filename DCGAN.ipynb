{
  "nbformat": 4,
  "nbformat_minor": 0,
  "metadata": {
    "colab": {
      "name": "DCGAN.ipynb",
      "provenance": []
    },
    "kernelspec": {
      "name": "python3",
      "display_name": "Python 3"
    },
    "accelerator": "GPU"
  },
  "cells": [
    {
      "cell_type": "code",
      "metadata": {
        "id": "BZm5pN8Q-7Es",
        "colab_type": "code",
        "colab": {}
      },
      "source": [
        "import tensorflow as tf"
      ],
      "execution_count": 0,
      "outputs": []
    },
    {
      "cell_type": "code",
      "metadata": {
        "id": "KcvNSARf_C_q",
        "colab_type": "code",
        "outputId": "4408d530-4a15-4649-8001-61cdabbb781d",
        "colab": {
          "base_uri": "https://localhost:8080/",
          "height": 34
        }
      },
      "source": [
        "tf.__version__"
      ],
      "execution_count": 0,
      "outputs": [
        {
          "output_type": "execute_result",
          "data": {
            "text/plain": [
              "'2.2.0-rc4'"
            ]
          },
          "metadata": {
            "tags": []
          },
          "execution_count": 2
        }
      ]
    },
    {
      "cell_type": "code",
      "metadata": {
        "id": "Fo-ChHDE_QFC",
        "colab_type": "code",
        "colab": {}
      },
      "source": [
        "!pip install -q imageio"
      ],
      "execution_count": 0,
      "outputs": []
    },
    {
      "cell_type": "code",
      "metadata": {
        "id": "McpVGfuf_QpK",
        "colab_type": "code",
        "colab": {}
      },
      "source": [
        "import glob\n",
        "import imageio\n",
        "import matplotlib.pyplot as plt\n",
        "import numpy as np\n",
        "import os\n",
        "import PIL\n",
        "from tensorflow.keras import layers\n",
        "import time\n",
        "\n",
        "from IPython import display"
      ],
      "execution_count": 0,
      "outputs": []
    },
    {
      "cell_type": "markdown",
      "metadata": {
        "id": "DtTeOWM_BRlu",
        "colab_type": "text"
      },
      "source": [
        "***Loading data***"
      ]
    },
    {
      "cell_type": "code",
      "metadata": {
        "id": "Jrsug4WX_QmR",
        "colab_type": "code",
        "outputId": "000171ca-1dbf-4005-aed2-bafc0187adfe",
        "colab": {
          "base_uri": "https://localhost:8080/",
          "height": 51
        }
      },
      "source": [
        "(train_img, train_labels), (_,_) = tf.keras.datasets.mnist.load_data()"
      ],
      "execution_count": 0,
      "outputs": [
        {
          "output_type": "stream",
          "text": [
            "Downloading data from https://storage.googleapis.com/tensorflow/tf-keras-datasets/mnist.npz\n",
            "11493376/11490434 [==============================] - 0s 0us/step\n"
          ],
          "name": "stdout"
        }
      ]
    },
    {
      "cell_type": "markdown",
      "metadata": {
        "id": "PiU8kl9qBWjn",
        "colab_type": "text"
      },
      "source": [
        "***Reshaping the data and converting its type and normalizing the data***"
      ]
    },
    {
      "cell_type": "code",
      "metadata": {
        "id": "mP0addTQ_QjX",
        "colab_type": "code",
        "outputId": "7acbee98-e1a6-4fce-be77-938fd95e385a",
        "colab": {
          "base_uri": "https://localhost:8080/",
          "height": 34
        }
      },
      "source": [
        "train_img.shape[0]"
      ],
      "execution_count": 0,
      "outputs": [
        {
          "output_type": "execute_result",
          "data": {
            "text/plain": [
              "60000"
            ]
          },
          "metadata": {
            "tags": []
          },
          "execution_count": 6
        }
      ]
    },
    {
      "cell_type": "code",
      "metadata": {
        "id": "pNnh4fNH_Qew",
        "colab_type": "code",
        "colab": {}
      },
      "source": [
        "#Reshaping the data and converting its type\n",
        "train_img = train_img.reshape(train_img.shape[0],28,28,1).astype('float32')\n",
        "#Normalization of data in the range [-1,1]\n",
        "train_img = (train_img - 127.5) / 127.5"
      ],
      "execution_count": 0,
      "outputs": []
    },
    {
      "cell_type": "code",
      "metadata": {
        "id": "C88ZxqQiCF7e",
        "colab_type": "code",
        "colab": {}
      },
      "source": [
        "BUFFER_SIZE = 60000\n",
        "BATCH_SIZE = 256"
      ],
      "execution_count": 0,
      "outputs": []
    },
    {
      "cell_type": "markdown",
      "metadata": {
        "id": "fDIFOCMgCaY9",
        "colab_type": "text"
      },
      "source": [
        "***Batch and shuffle the data***"
      ]
    },
    {
      "cell_type": "code",
      "metadata": {
        "id": "VQpgFERbCi9v",
        "colab_type": "code",
        "colab": {}
      },
      "source": [
        "train_dataset = tf.data.Dataset.from_tensor_slices(train_img).shuffle(BUFFER_SIZE).batch(BATCH_SIZE)"
      ],
      "execution_count": 0,
      "outputs": []
    },
    {
      "cell_type": "markdown",
      "metadata": {
        "id": "v_AoXE3bFMih",
        "colab_type": "text"
      },
      "source": [
        "***Generator Model***"
      ]
    },
    {
      "cell_type": "code",
      "metadata": {
        "id": "UmKDLAf7C_xL",
        "colab_type": "code",
        "colab": {}
      },
      "source": [
        "def make_generator_model():\n",
        "  model = tf.keras.Sequential([\n",
        "              # Dense Layer\n",
        "              layers.Dense(7*7*256, use_bias=False, input_shape=(100,)),\n",
        "              layers.BatchNormalization(),\n",
        "              layers.LeakyReLU(),\n",
        "              layers.Reshape((7,7,256)),\n",
        "              # Conv2DTranspose Layers\n",
        "              layers.Conv2DTranspose(128,(5,5), strides=(1,1), padding='same', use_bias=False),\n",
        "              layers.BatchNormalization(),\n",
        "              layers.LeakyReLU(),\n",
        "\n",
        "              layers.Conv2DTranspose(64, (5,5), strides=(2,2), padding='same', use_bias=False),\n",
        "              layers.BatchNormalization(),\n",
        "              layers.LeakyReLU(),\n",
        "\n",
        "              layers.Conv2DTranspose(1, (5,5), strides=(2,2), padding='same', use_bias=False),\n",
        "              layers.BatchNormalization(),\n",
        "              layers.LeakyReLU()\n",
        "  ])\n",
        "  return model"
      ],
      "execution_count": 0,
      "outputs": []
    },
    {
      "cell_type": "markdown",
      "metadata": {
        "id": "Y22DxenzSCFr",
        "colab_type": "text"
      },
      "source": [
        "***Creating an image using Generator without training***"
      ]
    },
    {
      "cell_type": "code",
      "metadata": {
        "id": "zbADo95TR2pp",
        "colab_type": "code",
        "outputId": "abe3ee36-5a8e-4ab4-a257-f095e6e39e94",
        "colab": {
          "base_uri": "https://localhost:8080/",
          "height": 282
        }
      },
      "source": [
        "generator = make_generator_model()\n",
        "\n",
        "noise = tf.random.normal([1,100])\n",
        "generated_image = generator(noise, training=False)\n",
        "plt.imshow(generated_image[0,:,:,0], cmap='gray')"
      ],
      "execution_count": 0,
      "outputs": [
        {
          "output_type": "execute_result",
          "data": {
            "text/plain": [
              "<matplotlib.image.AxesImage at 0x7f6f7039c5f8>"
            ]
          },
          "metadata": {
            "tags": []
          },
          "execution_count": 11
        },
        {
          "output_type": "display_data",
          "data": {
            "image/png": "[encoded data removed]",
            "text/plain": [
              "<Figure size 432x288 with 1 Axes>"
            ]
          },
          "metadata": {
            "tags": [],
            "needs_background": "light"
          }
        }
      ]
    },
    {
      "cell_type": "markdown",
      "metadata": {
        "id": "cahRRCV3Tiga",
        "colab_type": "text"
      },
      "source": [
        "***Discriminator Model***"
      ]
    },
    {
      "cell_type": "code",
      "metadata": {
        "id": "nQKJkd8zS1EY",
        "colab_type": "code",
        "colab": {}
      },
      "source": [
        "def make_discriminator_model():\n",
        "  model = tf.keras.Sequential([\n",
        "                # Conv2D layers aka 2D convolutions\n",
        "                layers.Conv2D(64, (5,5), strides=(2,2), padding='same', input_shape=[28,28,1]),\n",
        "                layers.LeakyReLU(),\n",
        "                layers.Dropout(0.3),\n",
        "                \n",
        "                layers.Conv2D(128, (5,5), strides=(2,2), padding='same'),\n",
        "                layers.LeakyReLU(),\n",
        "                layers.Dropout(0.3),\n",
        "                # Flattening the image\n",
        "                layers.Flatten(),\n",
        "                # Dense Layer\n",
        "                layers.Dense(1)\n",
        "  ])\n",
        "  return model"
      ],
      "execution_count": 0,
      "outputs": []
    },
    {
      "cell_type": "markdown",
      "metadata": {
        "id": "Jwt-9ARfWWFB",
        "colab_type": "text"
      },
      "source": [
        "***Classifying generated image as real or fake using Discriminator***"
      ]
    },
    {
      "cell_type": "code",
      "metadata": {
        "id": "_Z8zigBwV7RZ",
        "colab_type": "code",
        "outputId": "7533bfa7-b048-4868-bc0e-6d3a63bfbe16",
        "colab": {
          "base_uri": "https://localhost:8080/",
          "height": 51
        }
      },
      "source": [
        "discriminator = make_discriminator_model()\n",
        "decision = discriminator(generated_image)\n",
        "print(decision)\n",
        "if decision < 0:\n",
        "  print('Fake Image')\n",
        "else:\n",
        "  print('Real Image')"
      ],
      "execution_count": 0,
      "outputs": [
        {
          "output_type": "stream",
          "text": [
            "tf.Tensor([[8.353386e-05]], shape=(1, 1), dtype=float32)\n",
            "Real Image\n"
          ],
          "name": "stdout"
        }
      ]
    },
    {
      "cell_type": "markdown",
      "metadata": {
        "id": "mj8p88H-YFWe",
        "colab_type": "text"
      },
      "source": [
        "***Define Loss Function***"
      ]
    },
    {
      "cell_type": "code",
      "metadata": {
        "id": "-dmbWEKXWRNV",
        "colab_type": "code",
        "colab": {}
      },
      "source": [
        "loss = tf.keras.losses.BinaryCrossentropy(from_logits=True)"
      ],
      "execution_count": 0,
      "outputs": []
    },
    {
      "cell_type": "markdown",
      "metadata": {
        "id": "3ax3P_scYmqP",
        "colab_type": "text"
      },
      "source": [
        "***Discriminator Loss***"
      ]
    },
    {
      "cell_type": "code",
      "metadata": {
        "id": "heehBBKdYu4m",
        "colab_type": "code",
        "colab": {}
      },
      "source": [
        "def get_discriminator_loss(real_op, fake_op):\n",
        "  real_loss = loss(tf.ones_like(real_op), real_op)\n",
        "  fake_loss = loss(tf.zeros_like(fake_op), fake_op)\n",
        "  total_loss = real_loss + fake_loss\n",
        "  return total_loss"
      ],
      "execution_count": 0,
      "outputs": []
    },
    {
      "cell_type": "markdown",
      "metadata": {
        "id": "WpPncYXnZhvC",
        "colab_type": "text"
      },
      "source": [
        "***Generator Loss***"
      ]
    },
    {
      "cell_type": "code",
      "metadata": {
        "id": "dviGpQAzZpsV",
        "colab_type": "code",
        "colab": {}
      },
      "source": [
        "def get_generator_loss(fake_op):\n",
        "  return loss(tf.ones_like(fake_op), fake_op)"
      ],
      "execution_count": 0,
      "outputs": []
    },
    {
      "cell_type": "markdown",
      "metadata": {
        "id": "QHzIfwUxZ63m",
        "colab_type": "text"
      },
      "source": [
        "***Generator and Discriminator Optimizers***"
      ]
    },
    {
      "cell_type": "code",
      "metadata": {
        "id": "txB9xmmqaBZr",
        "colab_type": "code",
        "colab": {}
      },
      "source": [
        "generator_optimizer = tf.keras.optimizers.Adam(1e-4)\n",
        "discriminator_optimizer = tf.keras.optimizers.Adam(1e-4)"
      ],
      "execution_count": 0,
      "outputs": []
    },
    {
      "cell_type": "markdown",
      "metadata": {
        "id": "gvTt3Bgfl0YT",
        "colab_type": "text"
      },
      "source": [
        "***Checkpoints***"
      ]
    },
    {
      "cell_type": "code",
      "metadata": {
        "id": "u097B45rl4zt",
        "colab_type": "code",
        "colab": {}
      },
      "source": [
        "checkpoint_dir = './training_checkpoints'\n",
        "checkpoint_prefix = os.path.join(checkpoint_dir,\"ckpt\")\n",
        "checkpoint = tf.train.Checkpoint(generator_optimizer = generator_optimizer,\n",
        "                                 discriminator_optimizer = discriminator_optimizer,\n",
        "                                 generator = generator,\n",
        "                                 discriminator = discriminator)"
      ],
      "execution_count": 0,
      "outputs": []
    },
    {
      "cell_type": "markdown",
      "metadata": {
        "id": "rcBIMtbVljpy",
        "colab_type": "text"
      },
      "source": [
        "***Training Loop***"
      ]
    },
    {
      "cell_type": "code",
      "metadata": {
        "id": "JtbvD2GSlh19",
        "colab_type": "code",
        "colab": {}
      },
      "source": [
        "EPOCHS = 500\n",
        "noise_dim = 100\n",
        "num_examples_to_generate = 16\n",
        "\n",
        "seed = tf.random.normal([num_examples_to_generate, noise_dim])"
      ],
      "execution_count": 0,
      "outputs": []
    },
    {
      "cell_type": "code",
      "metadata": {
        "id": "r39jy-VNo2C2",
        "colab_type": "code",
        "colab": {}
      },
      "source": [
        "@tf.function\n",
        "def train_step(images):\n",
        "  noise = tf.random.normal([BATCH_SIZE, noise_dim])\n",
        "\n",
        "  with tf.GradientTape() as gen_tape, tf.GradientTape() as dis_tape:\n",
        "    generated_image = generator(noise, training = True)\n",
        "\n",
        "    real_op = discriminator(images, training = True)\n",
        "    fake_op = discriminator(generated_image, training = True)\n",
        "    generator_loss = get_generator_loss(fake_op)\n",
        "    discriminator_loss = get_discriminator_loss(real_op, fake_op)\n",
        "\n",
        "    gradients_of_generator = gen_tape.gradient(generator_loss, generator.trainable_variables)\n",
        "    gradients_of_discriminator = dis_tape.gradient(discriminator_loss, discriminator.trainable_variables)\n",
        "\n",
        "    generator_optimizer.apply_gradients(zip(gradients_of_generator, generator.trainable_variables))\n",
        "    discriminator_optimizer.apply_gradients(zip(gradients_of_discriminator, discriminator.trainable_variables))\n",
        "    "
      ],
      "execution_count": 0,
      "outputs": []
    },
    {
      "cell_type": "markdown",
      "metadata": {
        "id": "-wS1x9Jntw7Y",
        "colab_type": "text"
      },
      "source": [
        "***Training***"
      ]
    },
    {
      "cell_type": "code",
      "metadata": {
        "id": "hdftiKrHsXj7",
        "colab_type": "code",
        "colab": {}
      },
      "source": [
        "def train(dataset, epochs):\n",
        "  for epoch in range(epochs):\n",
        "    start = time.time()\n",
        "    # for each batch of data, get gradients and generated image and its verification by discriminator\n",
        "    for img_batch in dataset:\n",
        "      train_step(img_batch)\n",
        "    # Produce gif on go\n",
        "    display.clear_output(wait=True)\n",
        "    # Generate image and save them\n",
        "    generate_and_save_images(generator, epoch+1, seed)\n",
        "    # Save model in 15 seconds\n",
        "    if (epoch + 1) % 15 == 0:\n",
        "      checkpoint.save(file_prefix=checkpoint_prefix)\n",
        "    print('Time for epoch {} is {} sec'.format(epoch+1, time.time()-start))\n",
        "  \n",
        "  # Genearate after final epoch\n",
        "  display.clear_output(wait=True)\n",
        "  generate_and_save_images(generator, epochs, seed)"
      ],
      "execution_count": 0,
      "outputs": []
    },
    {
      "cell_type": "markdown",
      "metadata": {
        "id": "PZRxbQhMwzWh",
        "colab_type": "text"
      },
      "source": [
        "***Generate and Save Images***"
      ]
    },
    {
      "cell_type": "code",
      "metadata": {
        "id": "-rwsWcpnw-Wt",
        "colab_type": "code",
        "colab": {}
      },
      "source": [
        "def generate_and_save_images(model, epoch, test_input):\n",
        "  predictions = model(test_input, training=False)\n",
        "\n",
        "  fig = plt.figure(figsize=(4,4))\n",
        "  # Plotting images \n",
        "  for i in range(predictions.shape[0]):\n",
        "    plt.plot(4,4,i+1)\n",
        "    plt.imshow(predictions[i,:,:,0] * 127.5 + 127.5, cmap='gray')\n",
        "    plt.axis('off')\n",
        "  # Saving figure\n",
        "  plt.savefig('image_at_epoch_{:04d}.png'.format(epoch))\n",
        "  plt.show()"
      ],
      "execution_count": 0,
      "outputs": []
    },
    {
      "cell_type": "markdown",
      "metadata": {
        "id": "NUClAJTbzCrW",
        "colab_type": "text"
      },
      "source": [
        "***Start Traing the model***"
      ]
    },
    {
      "cell_type": "code",
      "metadata": {
        "id": "Lq0Tod6KzIms",
        "colab_type": "code",
        "outputId": "e0ba0c24-ef8f-41ad-d918-88b031d7d7f6",
        "colab": {
          "base_uri": "https://localhost:8080/",
          "height": 265
        }
      },
      "source": [
        "train(train_dataset, EPOCHS)"
      ],
      "execution_count": 0,
      "outputs": [
        {
          "output_type": "display_data",
          "data": {
            "image/png": "[encoded data removed]",
            "text/plain": [
              "<Figure size 288x288 with 1 Axes>"
            ]
          },
          "metadata": {
            "tags": [],
            "needs_background": "light"
          }
        },
        {
          "output_type": "stream",
          "text": [
            "Time for epoch 239 is 13.093102931976318 sec\n"
          ],
          "name": "stdout"
        }
      ]
    },
    {
      "cell_type": "markdown",
      "metadata": {
        "id": "Nr2J2thLztGx",
        "colab_type": "text"
      },
      "source": [
        "***Restore latest checkpoint***"
      ]
    },
    {
      "cell_type": "code",
      "metadata": {
        "id": "ksLdw9tzzxzp",
        "colab_type": "code",
        "colab": {}
      },
      "source": [
        "checkpoint.restore(tf.train.latest_checkpoint(checkpoint_dir))"
      ],
      "execution_count": 0,
      "outputs": []
    },
    {
      "cell_type": "markdown",
      "metadata": {
        "id": "fj_5-kEg0JDE",
        "colab_type": "text"
      },
      "source": [
        "***Creating GIF***"
      ]
    },
    {
      "cell_type": "code",
      "metadata": {
        "id": "cDLSsOJL0Pvz",
        "colab_type": "code",
        "colab": {}
      },
      "source": [
        "def display_image(epoch_no):\n",
        "  return PIL.Image.open('image_at_epoch_{:04d}.png'.format(epoch_no))"
      ],
      "execution_count": 0,
      "outputs": []
    },
    {
      "cell_type": "code",
      "metadata": {
        "id": "TxTd2DZs0jx5",
        "colab_type": "code",
        "colab": {}
      },
      "source": [
        "display_image(EPOCHS)"
      ],
      "execution_count": 0,
      "outputs": []
    },
    {
      "cell_type": "markdown",
      "metadata": {
        "id": "GMt78Is70n1X",
        "colab_type": "text"
      },
      "source": [
        "***Creating animated GIF***"
      ]
    },
    {
      "cell_type": "code",
      "metadata": {
        "id": "2wvLbjS00ri9",
        "colab_type": "code",
        "colab": {}
      },
      "source": [
        "anim_file = 'dcgan.gif'\n",
        "\n",
        "with imageio.get_writer(anim_file, mode='I') as writer:\n",
        "  filenames = glob.glob('image*.png')\n",
        "  filenames = sorted(filenames)\n",
        "  last = -1\n",
        "  for i,filename in enumerate(filenames):\n",
        "    frame = 2*(i**0.5)\n",
        "    if round(frame) > round(last):\n",
        "      last = frame\n",
        "    else:\n",
        "      continue\n",
        "    image = imageio.imread(filename)\n",
        "    writer.append_data(image)\n",
        "  image = imageio.imread(filename)\n",
        "  writer.append_data(image)\n",
        "\n",
        "import IPython\n",
        "if IPython.version_info > (6,2,0,''):\n",
        "  display.Image(filename=anim_file)"
      ],
      "execution_count": 0,
      "outputs": []
    },
    {
      "cell_type": "markdown",
      "metadata": {
        "id": "Se0I1gNd1F5h",
        "colab_type": "text"
      },
      "source": [
        "***Downloading GIF***"
      ]
    },
    {
      "cell_type": "code",
      "metadata": {
        "id": "HDjLIM8U1JUA",
        "colab_type": "code",
        "colab": {}
      },
      "source": [
        "try:\n",
        "  from google.colab import files\n",
        "except ImportError:\n",
        "   pass\n",
        "else:\n",
        "  files.download(anim_file)"
      ],
      "execution_count": 0,
      "outputs": []
    }
  ]
}